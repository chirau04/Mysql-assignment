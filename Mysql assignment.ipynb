{
 "cells": [
  {
   "cell_type": "markdown",
   "id": "3a3048cd-87c3-45c6-9c15-fb40ab1da4e4",
   "metadata": {},
   "source": [
    "A database is a structured collection of data that is organized for easy retrieval and management. \n",
    "SQL (structured query language) and NOSQL are two types of databases management systems. SQL databases, like MySQL and postgreSQL, are relational and use a structured schema, while NoSQL databases, like mongodb and cassandra are non-relational and offer more flexibility in handling diverse data types."
   ]
  },
  {
   "cell_type": "markdown",
   "id": "02ba59dc-1b15-4d35-b9f8-d371e061bc3f",
   "metadata": {},
   "source": [
    "DDL stands for data definition language, which is a subset of SQL used to define and manage database structures.\n",
    "\n",
    "* CREATE: Used to create database objects like tables. example: CREATE TABLE STUDENTS (ID INT, Name VARCHAR(50));\n",
    "* DROP: used to delete databases objects like tables. example: DROP TABLE Students;\n",
    "* ALTER: used to modify the structure of a databases objetc. example: ALTER TABLE Students ADD COLUMN age INT;\n",
    "* TRUNCATE: used to remove all records from a table but retains the table structure. example: TRUNCATE TABLE Students;"
   ]
  },
  {
   "cell_type": "markdown",
   "id": "e2176ab0-ab9b-4d77-b993-ce0cb90c9ad8",
   "metadata": {},
   "source": [
    "DML,or data manipulation language, is a subset of SQL used to manage data within the database. \n",
    "\n",
    "* INSERT: adds new records to a table. example: INSERT INTO Students (id, name, age) VALUES (1, 'Chirau', 20);\n",
    "* UPDATE: modifies existing records in a table. example: UPDATE students SET age = 21 WHERE Name = 'chirau';\n",
    "* DELETE: removes records from a table. example: DELETE from students WHERE Name = 'chirau';\n",
    "\n",
    "These statements allow you to interact with the data stored in the databases, adding, modifying, or removing information as needed."
   ]
  },
  {
   "cell_type": "markdown",
   "id": "294a04ba-e05e-4e6d-be7c-65133082b40d",
   "metadata": {},
   "source": [
    "DQL, or data query language, is a subset of SQL used for querying and retrieving data from the databases. \n",
    "\n",
    "* SELECT: retrieves data from one or more tables. example: SELECT Name, age FROM Students WHERE age>20;\n",
    "\n",
    "This statement allow you to specify the columns you want to retrieve and apply conditions to filter the data. the result is a set of rows that meet the specified criteria."
   ]
  },
  {
   "cell_type": "markdown",
   "id": "78ce16ff-0e5e-41d6-8166-35aab79b7cb6",
   "metadata": {},
   "source": [
    "A primary key is a column or a set of columns in a databases table that uniquely identifies each record in that table. it must contin unique values, and no two rows can have the same primary key value.   \n",
    "it is used to ensure data integrity and establish relationship between taables. \n",
    "\n",
    "\n",
    "\n",
    "A foreign key, on the other hand, is a column or a set of columns in a table that refers to the primary key in another table. \n",
    "it establishes a link between the two tables, enforcing referential integrity."
   ]
  },
  {
   "cell_type": "markdown",
   "id": "5628ae63-d4cb-4d90-bf08-adf3de882c00",
   "metadata": {},
   "source": [
    "In a standard SQL query, the order of execution follows these main clauses:\n",
    "\n",
    "1. FROM: SPECIFIES THE TABLE OR TABLES FROM WHICH TO RETRIEVE THE DATA.\n",
    "2. WHERE: FILTERS THE ROWS BASED ON SPECIFIED CONDITIONS.\n",
    "3. GROUP BY: GROUP ROWS THAT HAVE THE SAME VALUE INTO SUMMARY ROWS. \n",
    "4. HAVING: FILTERS GROUPS BASED ON SPECIFIED CONDITIONS. \n",
    "5. SELECT: SPECIFIES THE COLUMNS TO RETRIEVE.\n",
    "6. DISTINCT: FILTERS DUPLICATE ROWS FROM THE RESULT SET.\n",
    "7. ORDER BY: SORTS THE RESULT SET BY SPECIFIED COLUMNS.\n",
    "8. LIMIT/OFFSET: SPECIFIES THE NUMBER OF ROWS TO RETURN AND THE STARTING ROW NUMBER."
   ]
  },
  {
   "cell_type": "markdown",
   "id": "71e2dcc1-118e-4261-991b-2bbeebb2622f",
   "metadata": {},
   "source": [
    "Its important to note that not all queries include every clause, and some clauses may appear multiple times. additionally, some execution order based on the specific query and indexes avai"
   ]
  }
 ],
 "metadata": {
  "kernelspec": {
   "display_name": "Python 3 (ipykernel)",
   "language": "python",
   "name": "python3"
  },
  "language_info": {
   "codemirror_mode": {
    "name": "ipython",
    "version": 3
   },
   "file_extension": ".py",
   "mimetype": "text/x-python",
   "name": "python",
   "nbconvert_exporter": "python",
   "pygments_lexer": "ipython3",
   "version": "3.10.8"
  }
 },
 "nbformat": 4,
 "nbformat_minor": 5
}
